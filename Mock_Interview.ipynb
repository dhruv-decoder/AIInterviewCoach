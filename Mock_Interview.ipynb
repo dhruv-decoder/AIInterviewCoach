{
  "nbformat": 4,
  "nbformat_minor": 0,
  "metadata": {
    "colab": {
      "provenance": [],
      "authorship_tag": "ABX9TyNlaRZuKYzilIM6XVb4Fv/H",
      "include_colab_link": true
    },
    "kernelspec": {
      "name": "python3",
      "display_name": "Python 3"
    },
    "language_info": {
      "name": "python"
    }
  },
  "cells": [
    {
      "cell_type": "markdown",
      "metadata": {
        "id": "view-in-github",
        "colab_type": "text"
      },
      "source": [
        "<a href=\"https://colab.research.google.com/github/dhruv-decoder/AIInterviewCoach/blob/main/Mock_Interview.ipynb\" target=\"_parent\"><img src=\"https://colab.research.google.com/assets/colab-badge.svg\" alt=\"Open In Colab\"/></a>"
      ]
    },
    {
      "cell_type": "code",
      "execution_count": 1,
      "metadata": {
        "colab": {
          "base_uri": "https://localhost:8080/"
        },
        "id": "Q8tG1ZLGxbu5",
        "outputId": "eef2e341-367b-4d72-a33a-4137fc058293"
      },
      "outputs": [
        {
          "output_type": "stream",
          "name": "stdout",
          "text": [
            "Collecting gTTS\n",
            "  Downloading gTTS-2.5.1-py3-none-any.whl (29 kB)\n",
            "Requirement already satisfied: requests<3,>=2.27 in /usr/local/lib/python3.10/dist-packages (from gTTS) (2.31.0)\n",
            "Requirement already satisfied: click<8.2,>=7.1 in /usr/local/lib/python3.10/dist-packages (from gTTS) (8.1.7)\n",
            "Requirement already satisfied: charset-normalizer<4,>=2 in /usr/local/lib/python3.10/dist-packages (from requests<3,>=2.27->gTTS) (3.3.2)\n",
            "Requirement already satisfied: idna<4,>=2.5 in /usr/local/lib/python3.10/dist-packages (from requests<3,>=2.27->gTTS) (3.7)\n",
            "Requirement already satisfied: urllib3<3,>=1.21.1 in /usr/local/lib/python3.10/dist-packages (from requests<3,>=2.27->gTTS) (2.0.7)\n",
            "Requirement already satisfied: certifi>=2017.4.17 in /usr/local/lib/python3.10/dist-packages (from requests<3,>=2.27->gTTS) (2024.2.2)\n",
            "Installing collected packages: gTTS\n",
            "Successfully installed gTTS-2.5.1\n"
          ]
        }
      ],
      "source": [
        "pip install gTTS"
      ]
    },
    {
      "cell_type": "code",
      "source": [
        "from gtts import gTTS"
      ],
      "metadata": {
        "id": "4klUpZd6xc2n"
      },
      "execution_count": 2,
      "outputs": []
    },
    {
      "cell_type": "code",
      "source": [
        "text = \"Hello, this is a sample text.\"\n",
        "tts = gTTS(text=text, lang='en')\n",
        "tts.save(\"hello.mp3\")"
      ],
      "metadata": {
        "id": "Pj3PCkA1xevl"
      },
      "execution_count": 3,
      "outputs": []
    },
    {
      "cell_type": "code",
      "source": [
        "import json\n",
        "from gtts import gTTS\n",
        "import os\n",
        "\n",
        "# Load the interview transcripts from the JSON file\n",
        "with open(\"sample.json\", \"r\") as file:\n",
        "    interviews = json.load(file)\n",
        "\n",
        "output_dir = \"generated_audio\"\n",
        "os.makedirs(output_dir, exist_ok=True)\n",
        "\n",
        "for interview in interviews:\n",
        "    interview_type = interview[\"interview_type\"]\n",
        "    interview_id = interview[\"interview_id\"]\n",
        "    print(f\"Processing {interview_type} interview: {interview_id}\")\n",
        "\n",
        "    transcript_text = \"\"\n",
        "    for dialogue in interview[\"transcript\"]:\n",
        "        speaker = dialogue[\"speaker\"]\n",
        "        text = dialogue[\"text\"]\n",
        "        transcript_text += f\"{speaker}: {text} \"\n",
        "\n",
        "    tts = gTTS(text=transcript_text, lang='en')\n",
        "    output_path = os.path.join(output_dir, f\"{interview_id}.mp3\")\n",
        "    tts.save(output_path)\n",
        "    print(f\"Generated audio file: {output_path}\")\n",
        "\n",
        "    print(\"-\" * 20)"
      ],
      "metadata": {
        "colab": {
          "base_uri": "https://localhost:8080/"
        },
        "id": "psc7ts75088f",
        "outputId": "a3c43427-18b8-4c57-bb03-85f2cb22e4eb"
      },
      "execution_count": 7,
      "outputs": [
        {
          "output_type": "stream",
          "name": "stdout",
          "text": [
            "Processing Hire interview: interview-1-hired\n",
            "Generated audio file: generated_audio/interview-1-hired.mp3\n",
            "--------------------\n",
            "Processing Non-hire interview: interview-2-not-hired\n",
            "Generated audio file: generated_audio/interview-2-not-hired.mp3\n",
            "--------------------\n"
          ]
        }
      ]
    },
    {
      "cell_type": "code",
      "source": [],
      "metadata": {
        "id": "Ergnp3i21BGm"
      },
      "execution_count": null,
      "outputs": []
    }
  ]
}